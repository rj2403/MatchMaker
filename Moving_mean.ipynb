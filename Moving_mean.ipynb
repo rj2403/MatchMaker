{
 "cells": [
  {
   "cell_type": "code",
   "execution_count": 1,
   "id": "93c617ae",
   "metadata": {},
   "outputs": [],
   "source": [
    "import pandas as pd"
   ]
  },
  {
   "cell_type": "code",
   "execution_count": 2,
   "id": "35796ca5",
   "metadata": {},
   "outputs": [],
   "source": [
    "df = pd.read_excel(\"Data/Attrition_Forecasting.xlsx\")"
   ]
  },
  {
   "cell_type": "code",
   "execution_count": 3,
   "id": "8bdec2f5",
   "metadata": {},
   "outputs": [],
   "source": [
    "df[\"Moving_Mean\"]=df.rolling(window=2).mean()"
   ]
  },
  {
   "cell_type": "code",
   "execution_count": 4,
   "id": "85d54465",
   "metadata": {},
   "outputs": [],
   "source": [
    "test = df[-2:]\n",
    "train = df[:-2]"
   ]
  },
  {
   "cell_type": "code",
   "execution_count": 10,
   "id": "cc092110",
   "metadata": {},
   "outputs": [],
   "source": [
    "means_global = train[\"Moving_Mean\"].tolist()"
   ]
  },
  {
   "cell_type": "code",
   "execution_count": 11,
   "id": "5c85462b",
   "metadata": {},
   "outputs": [],
   "source": [
    "def get_Predictions(means,n):\n",
    "    pred = []\n",
    "    for i in range(n):\n",
    "        print(means)\n",
    "        print(means[-1],means[-2])\n",
    "        print()\n",
    "        forecast = (means[-1] + means[-2])/2\n",
    "        means.append(forecast)\n",
    "        pred.append(forecast)\n",
    "    print(pred)"
   ]
  },
  {
   "cell_type": "code",
   "execution_count": 12,
   "id": "970a56cc",
   "metadata": {},
   "outputs": [
    {
     "name": "stdout",
     "output_type": "stream",
     "text": [
      "[nan, 18.0, 12.5, 11.0, 14.0, 16.5, 16.5, 18.0, 16.0, 15.5, 15.0, 15.0, 17.5, 16.5, 11.0, 8.0, 14.5, 15.5, 13.0, 13.5, 17.5, 20.0, 16.0, 14.5, 13.5, 16.5, 18.0, 22.5, 23.5, 12.5, 15.0, 14.0]\n",
      "14.0 15.0\n",
      "\n",
      "[nan, 18.0, 12.5, 11.0, 14.0, 16.5, 16.5, 18.0, 16.0, 15.5, 15.0, 15.0, 17.5, 16.5, 11.0, 8.0, 14.5, 15.5, 13.0, 13.5, 17.5, 20.0, 16.0, 14.5, 13.5, 16.5, 18.0, 22.5, 23.5, 12.5, 15.0, 14.0, 14.5]\n",
      "14.5 14.0\n",
      "\n",
      "[14.5, 14.25]\n"
     ]
    }
   ],
   "source": [
    "get_Predictions(means_global,2)"
   ]
  },
  {
   "cell_type": "code",
   "execution_count": 13,
   "id": "12427ef3",
   "metadata": {},
   "outputs": [
    {
     "data": {
      "text/html": [
       "<div>\n",
       "<style scoped>\n",
       "    .dataframe tbody tr th:only-of-type {\n",
       "        vertical-align: middle;\n",
       "    }\n",
       "\n",
       "    .dataframe tbody tr th {\n",
       "        vertical-align: top;\n",
       "    }\n",
       "\n",
       "    .dataframe thead th {\n",
       "        text-align: right;\n",
       "    }\n",
       "</style>\n",
       "<table border=\"1\" class=\"dataframe\">\n",
       "  <thead>\n",
       "    <tr style=\"text-align: right;\">\n",
       "      <th></th>\n",
       "      <th>Date</th>\n",
       "      <th>y</th>\n",
       "      <th>Moving_Mean</th>\n",
       "    </tr>\n",
       "  </thead>\n",
       "  <tbody>\n",
       "    <tr>\n",
       "      <th>27</th>\n",
       "      <td>2019-12-01</td>\n",
       "      <td>29</td>\n",
       "      <td>22.5</td>\n",
       "    </tr>\n",
       "    <tr>\n",
       "      <th>28</th>\n",
       "      <td>2020-01-01</td>\n",
       "      <td>18</td>\n",
       "      <td>23.5</td>\n",
       "    </tr>\n",
       "    <tr>\n",
       "      <th>29</th>\n",
       "      <td>2020-02-01</td>\n",
       "      <td>7</td>\n",
       "      <td>12.5</td>\n",
       "    </tr>\n",
       "    <tr>\n",
       "      <th>30</th>\n",
       "      <td>2020-03-01</td>\n",
       "      <td>23</td>\n",
       "      <td>15.0</td>\n",
       "    </tr>\n",
       "    <tr>\n",
       "      <th>31</th>\n",
       "      <td>2020-04-01</td>\n",
       "      <td>5</td>\n",
       "      <td>14.0</td>\n",
       "    </tr>\n",
       "  </tbody>\n",
       "</table>\n",
       "</div>"
      ],
      "text/plain": [
       "         Date   y  Moving_Mean\n",
       "27 2019-12-01  29         22.5\n",
       "28 2020-01-01  18         23.5\n",
       "29 2020-02-01   7         12.5\n",
       "30 2020-03-01  23         15.0\n",
       "31 2020-04-01   5         14.0"
      ]
     },
     "execution_count": 13,
     "metadata": {},
     "output_type": "execute_result"
    }
   ],
   "source": [
    "train.tail()"
   ]
  },
  {
   "cell_type": "code",
   "execution_count": null,
   "id": "4f112002",
   "metadata": {},
   "outputs": [],
   "source": []
  }
 ],
 "metadata": {
  "kernelspec": {
   "display_name": "Python 3",
   "language": "python",
   "name": "python3"
  },
  "language_info": {
   "codemirror_mode": {
    "name": "ipython",
    "version": 3
   },
   "file_extension": ".py",
   "mimetype": "text/x-python",
   "name": "python",
   "nbconvert_exporter": "python",
   "pygments_lexer": "ipython3",
   "version": "3.8.8"
  }
 },
 "nbformat": 4,
 "nbformat_minor": 5
}
